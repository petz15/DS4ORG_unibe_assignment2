{
 "cells": [
  {
   "cell_type": "code",
   "execution_count": 1,
   "id": "92f91c26",
   "metadata": {},
   "outputs": [
    {
     "data": {
      "text/plain": [
       "\" This is an introductory instruction on collecting data from web via web scraping using Python. The parts presented in a gray-colored boxes are Python codes, which are provided for your reference to practice them. This is not an all-inclusive tutorial for beginners as you will only learn the necessary parts with some examples. You can also refer to the end of this tutorial to find references on this tutorial.\\nFor this workshop, suppose that we want to do some market research in the gaming industry. We will collect some data from an online shop for video games in Switzerland. We would like to create a dataset that includes data such as the title and the price of the game, as well as the link to each game's webpage.\""
      ]
     },
     "execution_count": 1,
     "metadata": {},
     "output_type": "execute_result"
    }
   ],
   "source": [
    "''' This is an introductory instruction on collecting data from web via web scraping using Python. The parts presented in a gray-colored boxes are Python codes, which are provided for your reference to practice them. This is not an all-inclusive tutorial for beginners as you will only learn the necessary parts with some examples. You can also refer to the end of this tutorial to find references on this tutorial.\n",
    "For this workshop, suppose that we want to do some market research in the gaming industry. We will collect some data from an online shop for video games in Switzerland. We would like to create a dataset that includes data such as the title and the price of the game, as well as the link to each game's webpage.'''"
   ]
  },
  {
   "cell_type": "code",
   "execution_count": 2,
   "id": "e844bdfd",
   "metadata": {},
   "outputs": [
    {
     "data": {
      "text/plain": [
       "' 1. Installing and Importing Necessary Libraries\\nIn the first step, we may need to install the two libraries that are required to simulate a web browsing experience in Python. These two libraries are called “selenium” and “webdriver_manager.” After installation, we must import two functions from each library. Firstly, the “webdriver” function from “selenium” library. Secondly, the “ChromeDriverManager” from “chrome” module of “webdriver_manager” library, if you are a Google Chrome user.'"
      ]
     },
     "execution_count": 2,
     "metadata": {},
     "output_type": "execute_result"
    }
   ],
   "source": [
    "''' 1. Installing and Importing Necessary Libraries\n",
    "In the first step, we may need to install the two libraries that are required to simulate a web browsing experience in Python. These two libraries are called “selenium” and “webdriver_manager.” After installation, we must import two functions from each library. Firstly, the “webdriver” function from “selenium” library. Secondly, the “ChromeDriverManager” from “chrome” module of “webdriver_manager” library, if you are a Google Chrome user.'''"
   ]
  },
  {
   "cell_type": "code",
   "execution_count": null,
   "id": "f1ed64f0",
   "metadata": {},
   "outputs": [],
   "source": [
    "pip install selenium"
   ]
  },
  {
   "cell_type": "code",
   "execution_count": null,
   "id": "5ec8fc93",
   "metadata": {},
   "outputs": [],
   "source": [
    "pip install webdriver_manager"
   ]
  },
  {
   "cell_type": "code",
   "execution_count": 32,
   "id": "fadd0b65",
   "metadata": {},
   "outputs": [],
   "source": [
    "from selenium import webdriver\n",
    "from webdriver_manager.chrome import ChromeDriverManager\n",
    "import os\n",
    "import re\n",
    "import pandas as pd"
   ]
  },
  {
   "cell_type": "code",
   "execution_count": 10,
   "id": "12887cfc",
   "metadata": {},
   "outputs": [
    {
     "data": {
      "text/plain": [
       "' 2. Initiating the Browsing Environment\\nIn this step, you need to initiate the browsing environment for your Python scraper. You will notice that a browser will automatically open up in your computer. You need to keep this browsing window open. So, do not close it! The following code is particular to Google Chrome users. For other browsers, you can refer to the references at the end of the tutorial and check “WebDriver Installation.”'"
      ]
     },
     "execution_count": 10,
     "metadata": {},
     "output_type": "execute_result"
    }
   ],
   "source": [
    "''' 2. Initiating the Browsing Environment\n",
    "In this step, you need to initiate the browsing environment for your Python scraper. You will notice that a browser will automatically open up in your computer. You need to keep this browsing window open. So, do not close it! The following code is particular to Google Chrome users. For other browsers, you can refer to the references at the end of the tutorial and check “WebDriver Installation.”'''"
   ]
  },
  {
   "cell_type": "code",
   "execution_count": 12,
   "id": "a2f9eda5",
   "metadata": {},
   "outputs": [
    {
     "data": {
      "text/plain": [
       "' 3. Inspecting the Parent Webpage\\nNow, we need to look at the initial webpage that we want to scrap. So we store the URL of that webpage for later usage. Then, we will open the URL using the webdriver (simulation/testing environment)'"
      ]
     },
     "execution_count": 12,
     "metadata": {},
     "output_type": "execute_result"
    }
   ],
   "source": [
    "''' 3. Inspecting the Parent Webpage\n",
    "Now, we need to look at the initial webpage that we want to scrap. So we store the URL of that webpage for later usage. Then, we will open the URL using the webdriver (simulation/testing environment)'''"
   ]
  },
  {
   "cell_type": "code",
   "execution_count": null,
   "id": "3d307a76",
   "metadata": {},
   "outputs": [],
   "source": [
    "driver = webdriver.Chrome()"
   ]
  },
  {
   "cell_type": "code",
   "execution_count": 15,
   "id": "276f5dc2",
   "metadata": {},
   "outputs": [],
   "source": [
    "url = 'https://www.wog.ch/index.cfm/budget/platform/Playstation-4'\n",
    "driver.get(url)"
   ]
  },
  {
   "cell_type": "code",
   "execution_count": 14,
   "id": "2ea2d77d",
   "metadata": {},
   "outputs": [
    {
     "data": {
      "text/plain": [
       "'  It may take a couple of seconds to load the page. So, make sure you wait enough. You need to know how to find and open the inspect element or inspect page in your browser. For instance, in Google Chrome, if we want to inspect the title of the game, we right click on the title, and choose “Inspect” from the bottom of the list. Then a window opens that shows the HTML source code along with many other data. This window allows us to find the path to each specific thing on the webpage that we are looking for.'"
      ]
     },
     "execution_count": 14,
     "metadata": {},
     "output_type": "execute_result"
    }
   ],
   "source": [
    "'''  It may take a couple of seconds to load the page. So, make sure you wait enough. You need to know how to find and open the inspect element or inspect page in your browser. For instance, in Google Chrome, if we want to inspect the title of the game, we right click on the title, and choose “Inspect” from the bottom of the list. Then a window opens that shows the HTML source code along with many other data. This window allows us to find the path to each specific thing on the webpage that we are looking for.'''"
   ]
  },
  {
   "cell_type": "code",
   "execution_count": 16,
   "id": "138bc328",
   "metadata": {},
   "outputs": [
    {
     "data": {
      "text/plain": [
       "' 3\\n4. Downloading and Storing the HTML Data\\nWe may want to download the HTML data of the webpage and store it in a variable so we can extract features from it. To do that, we can use the function “BeautifulSoup” from “bs4” library. Beautiful Soup is great for parsing HTML and XML documents.'"
      ]
     },
     "execution_count": 16,
     "metadata": {},
     "output_type": "execute_result"
    }
   ],
   "source": [
    "''' 3\n",
    "4. Downloading and Storing the HTML Data\n",
    "We may want to download the HTML data of the webpage and store it in a variable so we can extract features from it. To do that, we can use the function “BeautifulSoup” from “bs4” library. Beautiful Soup is great for parsing HTML and XML documents.'''"
   ]
  },
  {
   "cell_type": "code",
   "execution_count": 17,
   "id": "d8095df4",
   "metadata": {},
   "outputs": [],
   "source": [
    "from bs4 import BeautifulSoup\n",
    "soup = BeautifulSoup(driver.page_source, 'html.parser')"
   ]
  },
  {
   "cell_type": "code",
   "execution_count": 19,
   "id": "5ef3452b",
   "metadata": {},
   "outputs": [
    {
     "data": {
      "text/plain": [
       "' To save a copy of the raw data on hard drive for later. In this case, we determine the working directory and then save the data as a text file.'"
      ]
     },
     "execution_count": 19,
     "metadata": {},
     "output_type": "execute_result"
    }
   ],
   "source": [
    "''' To save a copy of the raw data on hard drive for later. In this case, we determine the working directory and then save the data as a text file.'''\n"
   ]
  },
  {
   "cell_type": "code",
   "execution_count": 20,
   "id": "06672d13",
   "metadata": {},
   "outputs": [],
   "source": [
    "with open('soup.txt', 'w', encoding='utf-8') as file:\n",
    "    file.write(str(soup))"
   ]
  },
  {
   "cell_type": "code",
   "execution_count": 21,
   "id": "2620f0c9",
   "metadata": {},
   "outputs": [
    {
     "data": {
      "text/plain": [
       "' 5. Locating the Elements on HTML Source\\nNow, we would like to locate the information (elements) that we mentioned in the exercise goal in the HTML source using the Inspect window of the browser. Please check the reference on “Locating Elements with Selenium” at the end of tutorial to familiarize yourself with different ways to locate elements. For example, we will find the Title of the first game on the list using the following code:'"
      ]
     },
     "execution_count": 21,
     "metadata": {},
     "output_type": "execute_result"
    }
   ],
   "source": [
    "''' 5. Locating the Elements on HTML Source\n",
    "Now, we would like to locate the information (elements) that we mentioned in the exercise goal in the HTML source using the Inspect window of the browser. Please check the reference on “Locating Elements with Selenium” at the end of tutorial to familiarize yourself with different ways to locate elements. For example, we will find the Title of the first game on the list using the following code:'''"
   ]
  },
  {
   "cell_type": "code",
   "execution_count": 22,
   "id": "1527b8e8",
   "metadata": {},
   "outputs": [],
   "source": [
    "Title = driver.find_element('xpath',r'//*[@id=\"wrapper\"]/main/div[2]/div/div/div[1]/div[1]/div/div/div[4]').text"
   ]
  },
  {
   "cell_type": "code",
   "execution_count": 25,
   "id": "8e548e36",
   "metadata": {},
   "outputs": [
    {
     "data": {
      "text/plain": [
       "' In this example, we located the Title and found the path as follows:\\n2. In the Inspect window, find the game title and right click on it. A list opens up and there is an option called “Copy.” Click on that and then another list opens up. From that list, we select “Copy XPath.”\\n3. The path will be copied on your clipboard and you paste it inside “find_element_by_xpath” function.\\n4. Since the title is a “text” object in that element we just found, we need to use “text” method to extract it.\\nNow that we are familiar with the process, we extract the link to the dedicated game webpage. This link exists in the same element that we just found. We only need to get the “href” attribute of that element.'"
      ]
     },
     "execution_count": 25,
     "metadata": {},
     "output_type": "execute_result"
    }
   ],
   "source": [
    "''' In this example, we located the Title and found the path as follows:\n",
    "2. In the Inspect window, find the game title and right click on it. A list opens up and there is an option called “Copy.” Click on that and then another list opens up. From that list, we select “Copy XPath.”\n",
    "3. The path will be copied on your clipboard and you paste it inside “find_element_by_xpath” function.\n",
    "4. Since the title is a “text” object in that element we just found, we need to use “text” method to extract it.\n",
    "Now that we are familiar with the process, we extract the link to the dedicated game webpage. This link exists in the same element that we just found. We only need to get the “href” attribute of that element.'''"
   ]
  },
  {
   "cell_type": "code",
   "execution_count": 26,
   "id": "2dfb4133",
   "metadata": {},
   "outputs": [],
   "source": [
    "Link = driver.find_element('xpath',r'//*[@id=\"wrapper\"]/main/div[2]/div/div/div[1]/div[1]/div/div/a').get_attribute('href')"
   ]
  },
  {
   "cell_type": "code",
   "execution_count": 27,
   "id": "b7f1b757",
   "metadata": {},
   "outputs": [
    {
     "data": {
      "text/plain": [
       "' Let’s locate and extract the price for the first game on the list now. Since the price is a “text” object in the underlying element, we need to use “text” method to extract it.'"
      ]
     },
     "execution_count": 27,
     "metadata": {},
     "output_type": "execute_result"
    }
   ],
   "source": [
    "''' Let’s locate and extract the price for the first game on the list now. Since the price is a “text” object in the underlying element, we need to use “text” method to extract it.'''"
   ]
  },
  {
   "cell_type": "code",
   "execution_count": 28,
   "id": "014d862d",
   "metadata": {},
   "outputs": [],
   "source": [
    "Price = driver.find_element('xpath',r'//*[@id=\"wrapper\"]/main/div[2]/div/div/div[1]/div[1]/div/div/div[7]/div[1]/p').text"
   ]
  },
  {
   "cell_type": "code",
   "execution_count": 31,
   "id": "581ddeeb",
   "metadata": {},
   "outputs": [],
   "source": [
    "Price = float(re.sub(r'[^\\d,.]', '', Price))"
   ]
  },
  {
   "cell_type": "code",
   "execution_count": 33,
   "id": "b4050d8b",
   "metadata": {},
   "outputs": [],
   "source": [
    "game_record = pd.DataFrame( { 'Title' : Title, \n",
    "                             'Link' : Link, \n",
    "                             'Price' : Price },\n",
    "                          index=[1])"
   ]
  },
  {
   "cell_type": "code",
   "execution_count": 34,
   "id": "7f6f15e8",
   "metadata": {},
   "outputs": [
    {
     "data": {
      "text/html": [
       "<div>\n",
       "<style scoped>\n",
       "    .dataframe tbody tr th:only-of-type {\n",
       "        vertical-align: middle;\n",
       "    }\n",
       "\n",
       "    .dataframe tbody tr th {\n",
       "        vertical-align: top;\n",
       "    }\n",
       "\n",
       "    .dataframe thead th {\n",
       "        text-align: right;\n",
       "    }\n",
       "</style>\n",
       "<table border=\"1\" class=\"dataframe\">\n",
       "  <thead>\n",
       "    <tr style=\"text-align: right;\">\n",
       "      <th></th>\n",
       "      <th>Title</th>\n",
       "      <th>Link</th>\n",
       "      <th>Price</th>\n",
       "    </tr>\n",
       "  </thead>\n",
       "  <tbody>\n",
       "    <tr>\n",
       "      <th>1</th>\n",
       "      <td>Assassin's Creed Mirage</td>\n",
       "      <td>https://www.wog.ch/index.cfm/details/product/1...</td>\n",
       "      <td>42.9</td>\n",
       "    </tr>\n",
       "  </tbody>\n",
       "</table>\n",
       "</div>"
      ],
      "text/plain": [
       "                     Title                                               Link  \\\n",
       "1  Assassin's Creed Mirage  https://www.wog.ch/index.cfm/details/product/1...   \n",
       "\n",
       "   Price  \n",
       "1   42.9  "
      ]
     },
     "execution_count": 34,
     "metadata": {},
     "output_type": "execute_result"
    }
   ],
   "source": [
    "game_record"
   ]
  },
  {
   "cell_type": "code",
   "execution_count": 35,
   "id": "ed0d0448",
   "metadata": {},
   "outputs": [
    {
     "data": {
      "text/plain": [
       "' 6. Automating the Extraction Process\\nLet’s suppose we need to extract those three features for all the games in the list on the webpage. To do that, we need to find and locate the root element that can lead to all those three attributes, which changes from one game on the list to another game. We can take a look at the path for the title of the second game and check where the shared path is.\\nThe path to the first game’s title:\\n‘//*[@id=\"wrapper\"]/main/div[2]/div/div/div[1]/div[1]/div/div/div[4]’\\nThe path to the second game’s title:\\n‘//*[@id=\"//*[@id=\"wrapper\"]/main/div[2]/div/div/div[1]/div[2]/div/div/div[4]’\\nThe shared root path is highlighted with green and where it changes is highlighted with red. The green part is what we can use to extract all the elements in which we can find the attributes we need. Since there are multiple elements this time, we must use “find_elements” function. We store all the elements in a variable for further process.'"
      ]
     },
     "execution_count": 35,
     "metadata": {},
     "output_type": "execute_result"
    }
   ],
   "source": [
    "''' 6. Automating the Extraction Process\n",
    "Let’s suppose we need to extract those three features for all the games in the list on the webpage. To do that, we need to find and locate the root element that can lead to all those three attributes, which changes from one game on the list to another game. We can take a look at the path for the title of the second game and check where the shared path is.\n",
    "The path to the first game’s title:\n",
    "‘//*[@id=\"wrapper\"]/main/div[2]/div/div/div[1]/div[1]/div/div/div[4]’\n",
    "The path to the second game’s title:\n",
    "‘//*[@id=\"//*[@id=\"wrapper\"]/main/div[2]/div/div/div[1]/div[2]/div/div/div[4]’\n",
    "The shared root path is highlighted with green and where it changes is highlighted with red. The green part is what we can use to extract all the elements in which we can find the attributes we need. Since there are multiple elements this time, we must use “find_elements” function. We store all the elements in a variable for further process.'''"
   ]
  },
  {
   "cell_type": "code",
   "execution_count": 36,
   "id": "fba5a918",
   "metadata": {},
   "outputs": [],
   "source": [
    "elements = driver.find_elements('xpath',r'//*[@id=\"wrapper\"]/main/div[2]/div/div/div[1]/div')"
   ]
  },
  {
   "cell_type": "code",
   "execution_count": 37,
   "id": "c81ae469",
   "metadata": {},
   "outputs": [
    {
     "data": {
      "text/plain": [
       "' Let’s try to find the third game’s title. We should use the game number (3rd) instead of the red part and use the blue part as the XPath address.'"
      ]
     },
     "execution_count": 37,
     "metadata": {},
     "output_type": "execute_result"
    }
   ],
   "source": [
    "''' Let’s try to find the third game’s title and weblink. We should use the game number (3rd) instead of the red part and use the blue part as the XPath address.'''"
   ]
  },
  {
   "cell_type": "code",
   "execution_count": 39,
   "id": "b02a3197",
   "metadata": {},
   "outputs": [],
   "source": [
    "Title = elements[2].find_element('xpath',r'div/div/div[4]').text\n",
    "Weblink = elements[2].find_element('xpath',r'div/div/a').get_attribute('href')"
   ]
  },
  {
   "cell_type": "code",
   "execution_count": 40,
   "id": "0180c3d8",
   "metadata": {},
   "outputs": [
    {
     "data": {
      "text/plain": [
       "' Now, we can understand how to iterate through the list of elements and find the attributes.'"
      ]
     },
     "execution_count": 40,
     "metadata": {},
     "output_type": "execute_result"
    }
   ],
   "source": [
    "''' Now, we can understand how to iterate through the list of elements and find the attributes.'''"
   ]
  },
  {
   "cell_type": "code",
   "execution_count": 41,
   "id": "9657097b",
   "metadata": {},
   "outputs": [],
   "source": [
    "game_records = []\n",
    "for n, element in enumerate(elements):\n",
    "    Title = element.find_element('xpath',r'div/div/div[4]').text\n",
    "    Link = element.find_element('xpath',r'div/div/a').get_attribute('href')\n",
    "    #Price = re.sub(r'[^\\d,.]', '',element.find_element(\n",
    "        #'xpath',r'div/div/div[7]/div[1]/p').text)\n",
    "    game_records.append([Title,Link])\n",
    "game_data = pd.DataFrame(data = game_records, columns = ['Title','Weblink'])"
   ]
  },
  {
   "cell_type": "code",
   "execution_count": 42,
   "id": "52e354e9",
   "metadata": {},
   "outputs": [
    {
     "data": {
      "text/html": [
       "<div>\n",
       "<style scoped>\n",
       "    .dataframe tbody tr th:only-of-type {\n",
       "        vertical-align: middle;\n",
       "    }\n",
       "\n",
       "    .dataframe tbody tr th {\n",
       "        vertical-align: top;\n",
       "    }\n",
       "\n",
       "    .dataframe thead th {\n",
       "        text-align: right;\n",
       "    }\n",
       "</style>\n",
       "<table border=\"1\" class=\"dataframe\">\n",
       "  <thead>\n",
       "    <tr style=\"text-align: right;\">\n",
       "      <th></th>\n",
       "      <th>Title</th>\n",
       "      <th>Weblink</th>\n",
       "    </tr>\n",
       "  </thead>\n",
       "  <tbody>\n",
       "    <tr>\n",
       "      <th>0</th>\n",
       "      <td>Assassin's Creed Mirage</td>\n",
       "      <td>https://www.wog.ch/index.cfm/details/product/1...</td>\n",
       "    </tr>\n",
       "    <tr>\n",
       "      <th>1</th>\n",
       "      <td>Assassin's Creed Mirage - Deluxe Steelbook Edi...</td>\n",
       "      <td>https://www.wog.ch/index.cfm/details/product/1...</td>\n",
       "    </tr>\n",
       "    <tr>\n",
       "      <th>2</th>\n",
       "      <td>Bloodborne - Game of the Year Edition</td>\n",
       "      <td>https://www.wog.ch/index.cfm/details/product/4...</td>\n",
       "    </tr>\n",
       "    <tr>\n",
       "      <th>3</th>\n",
       "      <td>Bud Spencer &amp; Terence Hill: Slaps and Beans 2</td>\n",
       "      <td>https://www.wog.ch/index.cfm/details/product/1...</td>\n",
       "    </tr>\n",
       "    <tr>\n",
       "      <th>4</th>\n",
       "      <td>Call of Duty: Modern Warfare</td>\n",
       "      <td>https://www.wog.ch/index.cfm/details/product/8...</td>\n",
       "    </tr>\n",
       "    <tr>\n",
       "      <th>5</th>\n",
       "      <td>Call of Duty: Modern Warfare III</td>\n",
       "      <td>https://www.wog.ch/index.cfm/details/product/1...</td>\n",
       "    </tr>\n",
       "    <tr>\n",
       "      <th>6</th>\n",
       "      <td>Call of Duty: Modern Warfare III - Limited...</td>\n",
       "      <td>https://www.wog.ch/index.cfm/details/product/1...</td>\n",
       "    </tr>\n",
       "    <tr>\n",
       "      <th>7</th>\n",
       "      <td>Call of Duty: Modern Warfare III - Steelbook...</td>\n",
       "      <td>https://www.wog.ch/index.cfm/details/product/1...</td>\n",
       "    </tr>\n",
       "    <tr>\n",
       "      <th>8</th>\n",
       "      <td>Controller Dualshock 4 -Glacier White-</td>\n",
       "      <td>https://www.wog.ch/index.cfm/details/product/3...</td>\n",
       "    </tr>\n",
       "    <tr>\n",
       "      <th>9</th>\n",
       "      <td>Controller Dualshock 4 -Jet Black-</td>\n",
       "      <td>https://www.wog.ch/index.cfm/details/product/5...</td>\n",
       "    </tr>\n",
       "    <tr>\n",
       "      <th>10</th>\n",
       "      <td>Cyberpunk 2077 - Day 1 Edition</td>\n",
       "      <td>https://www.wog.ch/index.cfm/details/product/9...</td>\n",
       "    </tr>\n",
       "    <tr>\n",
       "      <th>11</th>\n",
       "      <td>EA Sports F1 23</td>\n",
       "      <td>https://www.wog.ch/index.cfm/details/product/1...</td>\n",
       "    </tr>\n",
       "    <tr>\n",
       "      <th>12</th>\n",
       "      <td>EA Sports FC 24</td>\n",
       "      <td>https://www.wog.ch/index.cfm/details/product/1...</td>\n",
       "    </tr>\n",
       "    <tr>\n",
       "      <th>13</th>\n",
       "      <td>Elden Ring</td>\n",
       "      <td>https://www.wog.ch/index.cfm/details/product/1...</td>\n",
       "    </tr>\n",
       "    <tr>\n",
       "      <th>14</th>\n",
       "      <td>God of War</td>\n",
       "      <td>https://www.wog.ch/index.cfm/details/product/6...</td>\n",
       "    </tr>\n",
       "    <tr>\n",
       "      <th>15</th>\n",
       "      <td>Gran Turismo 7</td>\n",
       "      <td>https://www.wog.ch/index.cfm/details/product/3...</td>\n",
       "    </tr>\n",
       "    <tr>\n",
       "      <th>16</th>\n",
       "      <td>Grand Theft Auto 5 - Premium Edition</td>\n",
       "      <td>https://www.wog.ch/index.cfm/details/product/8...</td>\n",
       "    </tr>\n",
       "    <tr>\n",
       "      <th>17</th>\n",
       "      <td>Grand Theft Auto: The Trilogy - Definitive Edi...</td>\n",
       "      <td>https://www.wog.ch/index.cfm/details/product/1...</td>\n",
       "    </tr>\n",
       "    <tr>\n",
       "      <th>18</th>\n",
       "      <td>Hogwarts Legacy</td>\n",
       "      <td>https://www.wog.ch/index.cfm/details/product/1...</td>\n",
       "    </tr>\n",
       "    <tr>\n",
       "      <th>19</th>\n",
       "      <td>Horizon: Zero Dawn - Complete Edition</td>\n",
       "      <td>https://www.wog.ch/index.cfm/details/product/6...</td>\n",
       "    </tr>\n",
       "    <tr>\n",
       "      <th>20</th>\n",
       "      <td>It Takes Two</td>\n",
       "      <td>https://www.wog.ch/index.cfm/details/product/1...</td>\n",
       "    </tr>\n",
       "    <tr>\n",
       "      <th>21</th>\n",
       "      <td>Marvel’s Spider-Man: Miles Morales</td>\n",
       "      <td>https://www.wog.ch/index.cfm/details/product/1...</td>\n",
       "    </tr>\n",
       "    <tr>\n",
       "      <th>22</th>\n",
       "      <td>Need for Speed: Heat</td>\n",
       "      <td>https://www.wog.ch/index.cfm/details/product/8...</td>\n",
       "    </tr>\n",
       "    <tr>\n",
       "      <th>23</th>\n",
       "      <td>NHL 24</td>\n",
       "      <td>https://www.wog.ch/index.cfm/details/product/1...</td>\n",
       "    </tr>\n",
       "    <tr>\n",
       "      <th>24</th>\n",
       "      <td>Red Dead Redemption</td>\n",
       "      <td>https://www.wog.ch/index.cfm/details/product/1...</td>\n",
       "    </tr>\n",
       "    <tr>\n",
       "      <th>25</th>\n",
       "      <td>Red Dead Redemption 2</td>\n",
       "      <td>https://www.wog.ch/index.cfm/details/product/5...</td>\n",
       "    </tr>\n",
       "    <tr>\n",
       "      <th>26</th>\n",
       "      <td>Sackboy: A Big Adventure</td>\n",
       "      <td>https://www.wog.ch/index.cfm/details/product/1...</td>\n",
       "    </tr>\n",
       "    <tr>\n",
       "      <th>27</th>\n",
       "      <td>Uncharted: The Nathan Drake Collection</td>\n",
       "      <td>https://www.wog.ch/index.cfm/details/product/4...</td>\n",
       "    </tr>\n",
       "  </tbody>\n",
       "</table>\n",
       "</div>"
      ],
      "text/plain": [
       "                                                Title  \\\n",
       "0                             Assassin's Creed Mirage   \n",
       "1   Assassin's Creed Mirage - Deluxe Steelbook Edi...   \n",
       "2               Bloodborne - Game of the Year Edition   \n",
       "3       Bud Spencer & Terence Hill: Slaps and Beans 2   \n",
       "4                        Call of Duty: Modern Warfare   \n",
       "5                    Call of Duty: Modern Warfare III   \n",
       "6       Call of Duty: Modern Warfare III - Limited...   \n",
       "7     Call of Duty: Modern Warfare III - Steelbook...   \n",
       "8              Controller Dualshock 4 -Glacier White-   \n",
       "9                  Controller Dualshock 4 -Jet Black-   \n",
       "10                     Cyberpunk 2077 - Day 1 Edition   \n",
       "11                                    EA Sports F1 23   \n",
       "12                                    EA Sports FC 24   \n",
       "13                                         Elden Ring   \n",
       "14                                         God of War   \n",
       "15                                     Gran Turismo 7   \n",
       "16               Grand Theft Auto 5 - Premium Edition   \n",
       "17  Grand Theft Auto: The Trilogy - Definitive Edi...   \n",
       "18                                    Hogwarts Legacy   \n",
       "19              Horizon: Zero Dawn - Complete Edition   \n",
       "20                                       It Takes Two   \n",
       "21                 Marvel’s Spider-Man: Miles Morales   \n",
       "22                               Need for Speed: Heat   \n",
       "23                                             NHL 24   \n",
       "24                                Red Dead Redemption   \n",
       "25                              Red Dead Redemption 2   \n",
       "26                           Sackboy: A Big Adventure   \n",
       "27             Uncharted: The Nathan Drake Collection   \n",
       "\n",
       "                                              Weblink  \n",
       "0   https://www.wog.ch/index.cfm/details/product/1...  \n",
       "1   https://www.wog.ch/index.cfm/details/product/1...  \n",
       "2   https://www.wog.ch/index.cfm/details/product/4...  \n",
       "3   https://www.wog.ch/index.cfm/details/product/1...  \n",
       "4   https://www.wog.ch/index.cfm/details/product/8...  \n",
       "5   https://www.wog.ch/index.cfm/details/product/1...  \n",
       "6   https://www.wog.ch/index.cfm/details/product/1...  \n",
       "7   https://www.wog.ch/index.cfm/details/product/1...  \n",
       "8   https://www.wog.ch/index.cfm/details/product/3...  \n",
       "9   https://www.wog.ch/index.cfm/details/product/5...  \n",
       "10  https://www.wog.ch/index.cfm/details/product/9...  \n",
       "11  https://www.wog.ch/index.cfm/details/product/1...  \n",
       "12  https://www.wog.ch/index.cfm/details/product/1...  \n",
       "13  https://www.wog.ch/index.cfm/details/product/1...  \n",
       "14  https://www.wog.ch/index.cfm/details/product/6...  \n",
       "15  https://www.wog.ch/index.cfm/details/product/3...  \n",
       "16  https://www.wog.ch/index.cfm/details/product/8...  \n",
       "17  https://www.wog.ch/index.cfm/details/product/1...  \n",
       "18  https://www.wog.ch/index.cfm/details/product/1...  \n",
       "19  https://www.wog.ch/index.cfm/details/product/6...  \n",
       "20  https://www.wog.ch/index.cfm/details/product/1...  \n",
       "21  https://www.wog.ch/index.cfm/details/product/1...  \n",
       "22  https://www.wog.ch/index.cfm/details/product/8...  \n",
       "23  https://www.wog.ch/index.cfm/details/product/1...  \n",
       "24  https://www.wog.ch/index.cfm/details/product/1...  \n",
       "25  https://www.wog.ch/index.cfm/details/product/5...  \n",
       "26  https://www.wog.ch/index.cfm/details/product/1...  \n",
       "27  https://www.wog.ch/index.cfm/details/product/4...  "
      ]
     },
     "execution_count": 42,
     "metadata": {},
     "output_type": "execute_result"
    }
   ],
   "source": [
    "game_data"
   ]
  },
  {
   "cell_type": "code",
   "execution_count": null,
   "id": "c763353f",
   "metadata": {},
   "outputs": [],
   "source": []
  }
 ],
 "metadata": {
  "kernelspec": {
   "display_name": "Python 3 (ipykernel)",
   "language": "python",
   "name": "python3"
  },
  "language_info": {
   "codemirror_mode": {
    "name": "ipython",
    "version": 3
   },
   "file_extension": ".py",
   "mimetype": "text/x-python",
   "name": "python",
   "nbconvert_exporter": "python",
   "pygments_lexer": "ipython3",
   "version": "3.11.4"
  }
 },
 "nbformat": 4,
 "nbformat_minor": 5
}
