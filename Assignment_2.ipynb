{
 "cells": [
  {
   "cell_type": "code",
   "execution_count": 2,
   "metadata": {},
   "outputs": [],
   "source": [
    "from selenium import webdriver\n",
    "from webdriver_manager.chrome import ChromeDriverManager\n",
    "from bs4 import BeautifulSoup as bs\n",
    "import os\n",
    "import re\n",
    "import pandas as pd\n",
    "import time\n",
    "\n",
    "#lower this number if you do not fear getting IP banned and just want to see the results\n",
    "#or increase it if you want to run this multiple times in a short period\n",
    "sleep_time = 1"
   ]
  },
  {
   "cell_type": "markdown",
   "metadata": {},
   "source": [
    "Two prominent sellers of coffee beans in the city of Bern were choosen for this assignment.\n",
    "The names are Adrianos and Blaser. \n",
    "\n",
    "The Coffee shops rarely sell their product on websites of larger retailers (e.g. Migros, Coop, Galaxus).\n",
    "Their product can be bought locally in one of their stores or online. \n",
    "\n",
    "I chose these nice products because their products are mainly sold on their websites. Which makes it difficult to compare to other products.\n",
    "\n"
   ]
  },
  {
   "cell_type": "code",
   "execution_count": 3,
   "metadata": {},
   "outputs": [],
   "source": [
    "#the following are the two sites which are compared\n",
    "url_blaser = 'https://www.blasercafe.ch/shop/category/8'\n",
    "url_adrianos = 'https://adrianos.ch/shop/kaffee/bohnen'"
   ]
  },
  {
   "cell_type": "code",
   "execution_count": 4,
   "metadata": {},
   "outputs": [],
   "source": [
    "\n",
    "#with this method, chromedriver opens an instance of chromium\n",
    "#by opening an instance of chromium graphically instead of headless\n",
    "#it cirumvents some traditional ways websites check for webcrawlers\n",
    "driver = webdriver.Chrome()\n",
    "driver.get(url_blaser)\n",
    "\n",
    "#By waiting a bit, there is a smaller chance of getting blocked \n",
    "time.sleep(sleep_time)"
   ]
  },
  {
   "cell_type": "code",
   "execution_count": 5,
   "metadata": {},
   "outputs": [
    {
     "name": "stdout",
     "output_type": "stream",
     "text": [
      "{'name': 'Terra Vita Bio Fairtrade', 'price': '6.90', 'grams': '250', 'product': 'blaser', 'site': 'blaser'}\n",
      "{'name': 'Rösterei Spezial Maya', 'price': '7.90', 'grams': '250', 'product': 'blaser', 'site': 'blaser'}\n",
      "{'name': 'Coffee for Champions -', 'price': '8.50', 'grams': '250', 'product': 'blaser', 'site': 'blaser'}\n",
      "{'name': 'Blasercafé Degustations-Box', 'price': '45.–', 'grams': '250', 'product': 'blaser', 'site': 'blaser'}\n",
      "{'name': 'Marrone', 'price': '6.10', 'grams': '250', 'product': 'blaser', 'site': 'blaser'}\n",
      "{'name': 'Verde Bio Fairtrade', 'price': '6.70', 'grams': '250', 'product': 'blaser', 'site': 'blaser'}\n",
      "{'name': 'Purista Fairtrade', 'price': '6.10', 'grams': '250', 'product': 'blaser', 'site': 'blaser'}\n",
      "{'name': 'Lilla e Rose', 'price': '6.30', 'grams': '250', 'product': 'blaser', 'site': 'blaser'}\n",
      "{'name': 'Lussuria', 'price': '6.–', 'grams': '250', 'product': 'blaser', 'site': 'blaser'}\n",
      "{'name': 'Rosso & Nero', 'price': '6.90', 'grams': '250', 'product': 'blaser', 'site': 'blaser'}\n",
      "{'name': 'Classico', 'price': '6.50', 'grams': '250', 'product': 'blaser', 'site': 'blaser'}\n",
      "{'name': 'Sera entkoffeiniert', 'price': '6.90', 'grams': '250', 'product': 'blaser', 'site': 'blaser'}\n",
      "{'name': 'Winter Spezial Bethlehem', 'price': '6.20', 'grams': '250', 'product': 'blaser', 'site': 'blaser'}\n",
      "{'name': 'Rösterei Hausmischung', 'price': '7.30', 'grams': '250', 'product': 'blaser', 'site': 'blaser'}\n",
      "{'name': 'Rösterei Marzili', 'price': '6.60', 'grams': '250', 'product': 'blaser', 'site': 'blaser'}\n",
      "{'name': 'Rösterei Lorraine Bio Fairtrade', 'price': '7.–', 'grams': '250', 'product': 'blaser', 'site': 'blaser'}\n",
      "{'name': 'Rösterei Elfenau', 'price': '6.60', 'grams': '250', 'product': 'blaser', 'site': 'blaser'}\n",
      "{'name': 'Terroir Tanzania', 'price': '10.90', 'grams': '250', 'product': 'blaser', 'site': 'blaser'}\n",
      "{'name': 'Terroir Panama', 'price': '12.90', 'grams': '250', 'product': 'blaser', 'site': 'blaser'}\n",
      "{'name': 'Terroir Papua New Guinea  Sigri,', 'price': '9.70', 'grams': '250', 'product': 'blaser', 'site': 'blaser'}\n",
      "{'name': 'Terroir Indonesia Sumatra Orang Utan,', 'price': '12.50', 'grams': '250', 'product': 'blaser', 'site': 'blaser'}\n",
      "{'name': 'Terroir Bolivien Bio Arabica R.L. Havelaar Bio, Bohnenkaffe', 'price': '9.70', 'grams': '250', 'product': 'blaser', 'site': 'blaser'}\n",
      "{'name': 'Terroir Brazil Capoeirinha Estate,', 'price': '8.90', 'grams': '250', 'product': 'blaser', 'site': 'blaser'}\n",
      "{'name': 'Geschenkset Blasercafé zertifizierte Kaffees', 'price': '90', 'grams': '250', 'product': 'blaser', 'site': 'blaser'}\n",
      "{'name': 'Ocoa Santo Domingo', 'price': '19.90', 'grams': '250', 'product': 'blaser', 'site': 'blaser'}\n",
      "{'name': 'Geschenkset Blasercafé Trilogie', 'price': '21.90', 'grams': '250', 'product': 'blaser', 'site': 'blaser'}\n",
      "{'name': 'Geschenkset Berner Gourmet', 'price': '21.90', 'grams': '250', 'product': 'blaser', 'site': 'blaser'}\n",
      "{'name': 'Rösterei Geschenkset Berner Mischungen', 'price': '22.90', 'grams': '250', 'product': 'blaser', 'site': 'blaser'}\n"
     ]
    }
   ],
   "source": [
    "#A quick check of some typical products concludes that most of the prices are for 250g packages\n",
    "#there are some exceptions though: through a manual check, the product \"Geschenkset Berner Gourmet\" contains \n",
    "#a variety of tee and coffee beans. This difference can only be spotted on the product specific page. \n",
    "# Because this information is not available from the overview, I chose to ignore this detail.\n",
    "\n",
    "soup = bs(driver.page_source, 'html.parser')\n",
    "\n",
    "#saving the html just in case\n",
    "with open('soup_blaser.txt', 'w', encoding='utf-8') as file:\n",
    "    file.write(str(soup))\n",
    "\n",
    "#after checking the html for the first time it is clear that all \n",
    "#products start after a div with the class \"views-row\"\n",
    "#so all of them are saved into the variable content\n",
    "content = soup.find_all(\"div\", class_=re.compile(\"views-row\"))\n",
    "\n",
    "#this list saves all information from the site \"blaser\" for later\n",
    "products_blaser = []\n",
    "\n",
    "for c in content: \n",
    "    #sometimes the row does not contian a product. Therefore it is surrounded by a try catch\n",
    "    try:\n",
    "        #the name is in another div called \"product-teaser-content\"\n",
    "        product = c.find(\"div\", class_=re.compile(\"product-teaser-content\"))\n",
    "\n",
    "        #the name is then in an span within an a. \n",
    "        # By striping the text the name is revealed as shown on the site\n",
    "        name = product.find(\"a\").find(\"span\").text.strip()\n",
    "        \n",
    "        #the name usual contains \"Bohnenkaffe\" (Coffee beans). This information is unnecessary as only this \n",
    "        #type of coffee is viewed on this page\n",
    "        if name.find(\"Bohnenkaffee\") > -1:\n",
    "            name = name[:(name.find(\"Bohnenkaffee\"))-1]\n",
    "\n",
    "        #the price is in another div called \"product-teaser-content-wrapper\"\n",
    "        product_wrapper = c.find(\"div\", class_=re.compile(\"product-teaser-content-wrapper\"))\n",
    "\n",
    "        #the price is then in an span. \n",
    "        # By striping the text the price is revealed as shown on the site\n",
    "        price = product_wrapper.find(\"span\").text.strip()\n",
    "        \n",
    "        #the price has some unnecessary information\n",
    "        price = price[-(len(price)-7):]\n",
    "\n",
    "        #Adding a dictionary containing the relevant information\n",
    "        products_blaser.append({'name':name, 'price': price, 'grams':\"250\", 'product': \"blaser\", 'site': 'blaser'})\n",
    "        \n",
    "        #as a test the latest entry into the list is shown\n",
    "        print(products_blaser[len(products_blaser)-1])\n",
    "    \n",
    "    except Exception as e:\n",
    "        #this row has no products, so ignore\n",
    "        continue"
   ]
  },
  {
   "cell_type": "code",
   "execution_count": 6,
   "metadata": {},
   "outputs": [],
   "source": [
    "#in order to prevent the computer endlessly opening new windows\n",
    "#the current window is closed\n",
    "driver.close()"
   ]
  },
  {
   "cell_type": "code",
   "execution_count": 7,
   "metadata": {},
   "outputs": [],
   "source": [
    "\n",
    "#with this method, chromedriver opens an instance of chromium\n",
    "#by opening an instance of chromium graphically instead of headless\n",
    "#it cirumvents some traditional ways websites check for webcrawlers\n",
    "driver = webdriver.Chrome()\n",
    "driver.get(url_adrianos)"
   ]
  },
  {
   "cell_type": "code",
   "execution_count": 8,
   "metadata": {},
   "outputs": [
    {
     "name": "stdout",
     "output_type": "stream",
     "text": [
      "{'name': 'Tueste', 'price': ' 15.00', 'grams': '250', 'product': 'adrianos', 'site': 'adrianos'}\n",
      "{'name': 'Juanita', 'price': ' 13.00', 'grams': '250', 'product': 'adrianos', 'site': 'adrianos'}\n",
      "{'name': 'Festive Blend 2023', 'price': ' 12.50', 'grams': '250', 'product': 'adrianos', 'site': 'adrianos'}\n",
      "{'name': 'Don Victor', 'price': ' 14.00', 'grams': '250', 'product': 'adrianos', 'site': 'adrianos'}\n",
      "{'name': 'Lila Sorto', 'price': ' 14.00', 'grams': '250', 'product': 'adrianos', 'site': 'adrianos'}\n",
      "{'name': 'Ichamama Natural', 'price': ' 14.00', 'grams': '250', 'product': 'adrianos', 'site': 'adrianos'}\n",
      "{'name': 'ICE-T', 'price': ' 14.00', 'grams': '250', 'product': 'adrianos', 'site': 'adrianos'}\n",
      "{'name': 'Pablo Montgomery', 'price': ' 14.00', 'grams': '250', 'product': 'adrianos', 'site': 'adrianos'}\n",
      "{'name': 'Cascara Geisha Kaffeekirschen Tee', 'price': ' 9.00', 'grams': '250', 'product': 'adrianos', 'site': 'adrianos'}\n",
      "{'name': 'Robusta Rocket', 'price': ' 11.50', 'grams': '250', 'product': 'adrianos', 'site': 'adrianos'}\n",
      "{'name': 'Ichamama AA', 'price': ' 14.00', 'grams': '250', 'product': 'adrianos', 'site': 'adrianos'}\n",
      "{'name': 'Decaf', 'price': ' 13.00', 'grams': '250', 'product': 'adrianos', 'site': 'adrianos'}\n",
      "{'name': 'San Isidro Organic', 'price': ' 13.00', 'grams': '250', 'product': 'adrianos', 'site': 'adrianos'}\n",
      "{'name': 'Candelaria', 'price': ' 13.00', 'grams': '250', 'product': 'adrianos', 'site': 'adrianos'}\n",
      "{'name': 'Boledu', 'price': ' 12.50', 'grams': '250', 'product': 'adrianos', 'site': 'adrianos'}\n",
      "{'name': 'Silvestre', 'price': ' 11.50', 'grams': '250', 'product': 'adrianos', 'site': 'adrianos'}\n",
      "{'name': 'Kaffeebohnen-Probierset', 'price': ' 35.00', 'grams': '250', 'product': 'adrianos', 'site': 'adrianos'}\n",
      "{'name': 'Aprocassi Organic', 'price': ' 13.00', 'grams': '250', 'product': 'adrianos', 'site': 'adrianos'}\n",
      "{'name': 'Espresso', 'price': ' 11.50', 'grams': '250', 'product': 'adrianos', 'site': 'adrianos'}\n",
      "{'name': 'Dark Robusta', 'price': ' 11.50', 'grams': '250', 'product': 'adrianos', 'site': 'adrianos'}\n",
      "{'name': 'Lungo', 'price': ' 11.50', 'grams': '250', 'product': 'adrianos', 'site': 'adrianos'}\n",
      "{'name': 'Malabar', 'price': ' 11.50', 'grams': '250', 'product': 'adrianos', 'site': 'adrianos'}\n"
     ]
    }
   ],
   "source": [
    "#According to the top of the page all the displayed prices of the adrianos products are for 250g packages\n",
    "#there are some exceptions though: through a manual check, the product \"Kaffeebohnen - Probierset\" contains \n",
    "#6 different packages of coffee beans each weighing around 125g. This difference can only be spotted on the \n",
    "#product specific page. Because this information is not available from the overview, \n",
    "# I chose to ignore this detail\n",
    "\n",
    "soup = bs(driver.page_source, 'html.parser')\n",
    "\n",
    "#saving the html just in case\n",
    "with open('soup_adrianos.txt', 'w', encoding='utf-8') as file:\n",
    "    file.write(str(soup))\n",
    "\n",
    "#after checking the html for the first time it is clear that all \n",
    "#products start after an article with the class \"product product_preview\"\n",
    "#so all of them are saved into the variable content\n",
    "content = soup.find_all(\"article\", class_=re.compile(\"product product_preview\"))\n",
    "\n",
    "#this list saves all information from the site \"adrianos\" for later\n",
    "products_adrianos = []\n",
    "\n",
    "for c in content: \n",
    "    #sometimes the row does not contian a product. Therefore it is surrounded by a try catch\n",
    "    try:\n",
    "        #the relevant information is in a div called \"product__caption product__caption_preview\"\n",
    "        product = c.find(\"div\", class_=re.compile(\"product__caption product__caption_preview\"))\n",
    "\n",
    "        # By striping the text within the h2 the name is revealed as shown on the site\n",
    "        name = product.find(\"h2\").text.strip()\n",
    "\n",
    "        #the name usual contains \"Bohnenkaffe\" (Coffee beans). This information is unnecessary as only this \n",
    "        #type of coffee is viewed on this page\n",
    "        if name.find(\"Filterkaffee \") > -1:\n",
    "            name = name[:(name.find(\"Filterkaffee \"))-1]\n",
    "\n",
    "        if name.find(\"Kaffee \") > -1:\n",
    "            name = name[:(name.find(\"Kaffee \"))-1]\n",
    "\n",
    "        # By striping the text within the span the price is revealed as shown on the site\n",
    "        price = product.find(\"span\").text.strip()\n",
    "        \n",
    "        #the price has some unnecessary information\n",
    "        price = price[-(len(price)-3):]\n",
    "\n",
    "        #Adding a dictionary containing the relevant information\n",
    "        products_adrianos.append({'name':name, 'price': price, 'grams':\"250\", 'product': \"adrianos\", 'site': 'adrianos'})\n",
    "        \n",
    "        #as a test the latest entry into the list is shown\n",
    "        print(products_adrianos[len(products_adrianos)-1])\n",
    "    \n",
    "    except Exception as e:\n",
    "        #this row has no products, so ignore\n",
    "        continue"
   ]
  },
  {
   "cell_type": "code",
   "execution_count": 9,
   "metadata": {},
   "outputs": [],
   "source": [
    "#in order to prevent the computer endlessly opening new windows\n",
    "#the current window is closed\n",
    "driver.close()"
   ]
  },
  {
   "cell_type": "code",
   "execution_count": 10,
   "metadata": {},
   "outputs": [],
   "source": [
    "#Additionally, for Blaser the webiste \"kaffeezentrale.ch\" offers some of the blaser products as well\n",
    "#It yields an interesting comparison, which is nice.\n",
    "\n",
    "url_kaffeezentrale = 'https://kaffeezentrale.ch/kaffeebohnen?p=1&properties=3f287e0ff57d42daad52e4ad2b2ae68d'\n",
    "\n"
   ]
  },
  {
   "cell_type": "code",
   "execution_count": 11,
   "metadata": {},
   "outputs": [],
   "source": [
    "#with this method, chromedriver opens an instance of chromium\n",
    "#by opening an instance of chromium graphically instead of headless\n",
    "#it cirumvents some traditional ways websites check for webcrawlers\n",
    "driver = webdriver.Chrome()\n",
    "driver.get(url_kaffeezentrale)"
   ]
  },
  {
   "cell_type": "code",
   "execution_count": 12,
   "metadata": {},
   "outputs": [
    {
     "name": "stdout",
     "output_type": "stream",
     "text": [
      "{'name': 'Classico', 'price': '6.50', 'grams': '250', 'product': 'blaser', 'site': 'kaffeezentrale'}\n",
      "{'name': 'Rosso e Nero', 'price': '6.90', 'grams': '250', 'product': 'blaser', 'site': 'kaffeezentrale'}\n",
      "{'name': 'Terra Vita', 'price': '6.90', 'grams': '250', 'product': 'blaser', 'site': 'kaffeezentrale'}\n",
      "{'name': 'Terroir, Brazil Capoerinha Estate', 'price': '8.90', 'grams': '250', 'product': 'blaser', 'site': 'kaffeezentrale'}\n",
      "{'name': 'Terroir, Orang Utan Sumatra', 'price': '12.50', 'grams': '250', 'product': 'blaser', 'site': 'kaffeezentrale'}\n",
      "{'name': 'Terroir, Panama Finca Bonita Springs', 'price': '12.90', 'grams': '250', 'product': 'blaser', 'site': 'kaffeezentrale'}\n",
      "{'name': 'OCOA Santo Domingo, Dieter Meier Edition', 'price': '19.90', 'grams': '250', 'product': 'blaser', 'site': 'kaffeezentrale'}\n",
      "{'name': 'Marrone', 'price': '22.50', 'grams': '250', 'product': 'blaser', 'site': 'kaffeezentrale'}\n",
      "{'name': 'Lilla e Rose', 'price': '23.30', 'grams': '250', 'product': 'blaser', 'site': 'kaffeezentrale'}\n",
      "{'name': 'Verde', 'price': '24.70', 'grams': '250', 'product': 'blaser', 'site': 'kaffeezentrale'}\n",
      "{'name': 'Lussuria', 'price': '199.90', 'grams': '250', 'product': 'blaser', 'site': 'kaffeezentrale'}\n"
     ]
    }
   ],
   "source": [
    "#As before, the prices are for 250g packages\n",
    "\n",
    "soup = bs(driver.page_source, 'html.parser')\n",
    "\n",
    "#saving the html just in case\n",
    "with open('soup_kaffeezentrale.txt', 'w', encoding='utf-8') as file:\n",
    "    file.write(str(soup))\n",
    "\n",
    "#after checking the html for the first time it is clear that all \n",
    "#products start after a div with the class \"views-row\"\n",
    "#so all of them are saved into the variable content\n",
    "content = soup.find_all(\"div\", class_=re.compile(\"cms-listing-col col dc-listing-col\"))\n",
    "\n",
    "#this list saves all information from the site \"blaser\" for later\n",
    "products_kaffeezentrale = []\n",
    "\n",
    "for c in content: \n",
    "    #sometimes the row does not contian a product. Therefore it is surrounded by a try catch\n",
    "    try:\n",
    "        #the name is in another div called \"product-name\"\n",
    "        product = c.find(\"div\", class_=re.compile(\"product-name\"))\n",
    "\n",
    "        # By striping the text the name is revealed as shown on the site\n",
    "        name = product.text.strip()\n",
    "        \n",
    "        #the name usual contains \"Blasercafe\". This information is unnecessary as only this \n",
    "        #Coffee Brand is viewed\n",
    "        if name.find(\"Blasercafé,\") > -1:\n",
    "            name = name[-(len(name)-(len(\"Blasercafé\")+2)):]\n",
    "        \n",
    "        if name.find(\"Blasercafé\") > -1:\n",
    "            name = name[-(len(name)-(len(\"Blasercafé\")+1)):]\n",
    "\n",
    "        #the price is in another div called \"custom-price\"\n",
    "        custom_price = c.find(\"div\", class_=re.compile(\"custom-price\"))\n",
    "\n",
    "        #the price is then in an span. \n",
    "        # By striping the text the price is revealed as shown on the site\n",
    "        price = custom_price.find(\"span\").text.strip()\n",
    "        \n",
    "        #correcting the format\n",
    "        price = price.replace(\",\", \".\")\n",
    "\n",
    "        #Adding a dictionary containing the relevant information\n",
    "        products_kaffeezentrale.append({'name':name, 'price': price, 'grams':\"250\", 'product': \"blaser\", 'site': 'kaffeezentrale'})\n",
    "        \n",
    "        #as a test the latest entry into the list is shown\n",
    "        print(products_kaffeezentrale[len(products_kaffeezentrale)-1])\n",
    "    \n",
    "    except Exception as e:\n",
    "        #this row has no products, so ignore\n",
    "        continue"
   ]
  },
  {
   "cell_type": "code",
   "execution_count": 13,
   "metadata": {},
   "outputs": [],
   "source": [
    "#in order to prevent the computer endlessly opening new windows\n",
    "#the current window is closed\n",
    "driver.close()"
   ]
  },
  {
   "cell_type": "code",
   "execution_count": 14,
   "metadata": {},
   "outputs": [],
   "source": [
    "#After gathering all this information. Following comparisons can be made:\n",
    "# - How much does coffee beans on average per package and per gram cost at the different shops.\n",
    "# - Is there a difference between the price for Blaser products at the different sites.\n",
    "\n",
    "#Altough these are interesting questions, they are out of scope of the assingment"
   ]
  }
 ],
 "metadata": {
  "kernelspec": {
   "display_name": "Python 3",
   "language": "python",
   "name": "python3"
  },
  "language_info": {
   "codemirror_mode": {
    "name": "ipython",
    "version": 3
   },
   "file_extension": ".py",
   "mimetype": "text/x-python",
   "name": "python",
   "nbconvert_exporter": "python",
   "pygments_lexer": "ipython3",
   "version": "3.11.5"
  }
 },
 "nbformat": 4,
 "nbformat_minor": 2
}
