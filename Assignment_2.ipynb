{
 "cells": [
  {
   "cell_type": "code",
   "execution_count": 2,
   "metadata": {},
   "outputs": [],
   "source": [
    "from selenium import webdriver\n",
    "from webdriver_manager.chrome import ChromeDriverManager\n",
    "from bs4 import BeautifulSoup as bs\n",
    "import os\n",
    "import re\n",
    "import pandas as pd"
   ]
  },
  {
   "cell_type": "code",
   "execution_count": 3,
   "metadata": {},
   "outputs": [],
   "source": [
    "url_blaser = 'https://www.blasercafe.ch/shop/category/8'\n",
    "url_adrianos = 'https://adrianos.ch/shop/kaffee/gemahlen'\n",
    "\n",
    "driver = webdriver.Chrome()\n",
    "\n",
    "driver.get(url_blaser)"
   ]
  },
  {
   "cell_type": "code",
   "execution_count": 4,
   "metadata": {},
   "outputs": [
    {
     "name": "stdout",
     "output_type": "stream",
     "text": [
      "{'name': 'Terra Vita Bio Fairtrade Bohnenkaffee (bisher Pura Vida)', 'price': '6.90'}\n",
      "{'name': 'Rösterei Spezial Maya Bohnenkaffee', 'price': '7.90'}\n",
      "{'name': 'Coffee for Champions - Bohnenkaffee', 'price': '8.50'}\n",
      "{'name': 'Marrone Bohnenkaffee', 'price': '6.10'}\n",
      "{'name': 'Verde Bio Fairtrade Bohnenkaffee', 'price': '6.70'}\n",
      "{'name': 'Purista Fairtrade Bohnenkaffee', 'price': '6.10'}\n",
      "{'name': 'Lilla e Rose Bohnenkaffee', 'price': '6.30'}\n",
      "{'name': 'Lussuria Bohnenkaffee', 'price': '6.–'}\n",
      "{'name': 'Rosso & Nero Bohnenkaffee', 'price': '6.90'}\n",
      "{'name': 'Classico Bohnenkaffee', 'price': '6.50'}\n",
      "{'name': 'Sera entkoffeiniert Bohnenkaffee', 'price': '6.90'}\n",
      "{'name': 'Winter Spezial Bethlehem Bohnenkaffee', 'price': '6.20'}\n",
      "{'name': 'Rösterei Hausmischung Bohnenkaffee', 'price': '7.30'}\n",
      "{'name': 'Rösterei Marzili Bohnenkaffee', 'price': '6.60'}\n",
      "{'name': 'Rösterei Lorraine Bio Fairtrade Bohnenkaffee', 'price': '7.–'}\n",
      "{'name': 'Rösterei Elfenau Bohnenkaffee', 'price': '6.60'}\n",
      "{'name': 'Terroir Tanzania Bohnenkaffee', 'price': '10.90'}\n",
      "{'name': 'Terroir Panama Bohnenkaffee', 'price': '12.90'}\n",
      "{'name': 'Terroir Papua New Guinea  Sigri, Bohnenkaffee', 'price': '9.70'}\n",
      "{'name': 'Terroir Indonesia Sumatra Orang Utan, Bohnenkaffee', 'price': '12.50'}\n",
      "{'name': 'Terroir Bolivien Bio Arabica R.L. Havelaar Bio, Bohnenkaffe', 'price': '9.70'}\n",
      "{'name': 'Terroir Brazil Capoeirinha Estate, Bohnenkaffee', 'price': '8.90'}\n",
      "{'name': 'Geschenkset Blasercafé zertifizierte Kaffees', 'price': '90'}\n",
      "{'name': 'Ocoa Santo Domingo Bohnenkaffee', 'price': '19.90'}\n",
      "{'name': 'Geschenkset Blasercafé Trilogie', 'price': '21.90'}\n",
      "{'name': 'Geschenkset Berner Gourmet', 'price': '21.90'}\n",
      "{'name': 'Rösterei Geschenkset Berner Mischungen', 'price': '22.90'}\n"
     ]
    }
   ],
   "source": [
    "\n",
    "\n",
    "soup = bs(driver.page_source, 'html.parser')\n",
    "with open('soup_blaser.txt', 'w', encoding='utf-8') as file:\n",
    "    file.write(str(soup))\n",
    "\n",
    "content = soup.find_all(\"div\", class_=re.compile(\"views-row\"))\n",
    "\n",
    "products_blaser = []\n",
    "\n",
    "for c in content: \n",
    "    try:\n",
    "        product = c.find(\"div\", class_=re.compile(\"product-teaser-content\"))\n",
    "        \n",
    "\n",
    "        a = product.find(\"a\")\n",
    "\n",
    "        name = a.find(\"span\").text.strip()\n",
    "\n",
    "        product_wrapper = c.find(\"div\", class_=re.compile(\"product-teaser-content-wrapper\"))\n",
    "\n",
    "        price = product_wrapper.find(\"span\").text.strip()\n",
    "        \n",
    "        #remove text\n",
    "        price_transformed = price[-(len(price)-7):]\n",
    "\n",
    "        products_blaser.append({'name':name, 'price': price_transformed})\n",
    "        \n",
    "        print(products_blaser[len(products_blaser)-1])\n",
    "    \n",
    "    except Exception as e:\n",
    "        #this row has no products, so ignore\n",
    "        continue"
   ]
  },
  {
   "cell_type": "code",
   "execution_count": 5,
   "metadata": {},
   "outputs": [],
   "source": [
    "#adrianos\n",
    "url_adrianos = 'https://adrianos.ch/shop/kaffee/gemahlen'\n",
    "\n",
    "driver = webdriver.Chrome()\n",
    "\n",
    "driver.get(url_adrianos)"
   ]
  },
  {
   "cell_type": "code",
   "execution_count": 6,
   "metadata": {},
   "outputs": [
    {
     "name": "stdout",
     "output_type": "stream",
     "text": [
      "{'name': 'Tueste Filterkaffee gemahlen', 'price': ' 15.00'}\n",
      "{'name': 'Festive Blend 2023 Kaffee gemahlen', 'price': ' 12.50'}\n",
      "{'name': 'Juanita Filterkaffee gemahlen', 'price': ' 13.00'}\n",
      "{'name': 'Don Victor Kaffee gemahlen', 'price': ' 14.00'}\n",
      "{'name': 'Lila Sorto Filterkaffee gemahlen', 'price': ' 14.00'}\n",
      "{'name': 'Ichamama Natural Filterkaffee gemahlen', 'price': ' 14.00'}\n",
      "{'name': 'Pablo Montgomery Kaffee gemahlen', 'price': ' 14.00'}\n",
      "{'name': 'ICE-T Filterkaffee gemahlen', 'price': ' 14.00'}\n",
      "{'name': 'Robusta Rocket Kaffee gemahlen', 'price': ' 11.50'}\n",
      "{'name': 'Ichamama AA Filterkaffee gemahlen', 'price': ' 14.00'}\n",
      "{'name': 'Decaf Kaffee gemahlen', 'price': ' 13.00'}\n",
      "{'name': 'Aprocassi Organic Kaffee gemahlen', 'price': ' 13.00'}\n",
      "{'name': 'San Isidro Organic Kaffee gemahlen', 'price': ' 13.00'}\n",
      "{'name': 'Candelaria Kaffee gemahlen', 'price': ' 13.00'}\n",
      "{'name': 'Boledu Kaffee gemahlen', 'price': ' 12.50'}\n",
      "{'name': 'Silvestre Kaffee gemahlen', 'price': ' 11.50'}\n",
      "{'name': 'Espresso Kaffee gemahlen', 'price': ' 11.50'}\n",
      "{'name': 'Lungo Kaffee gemahlen', 'price': ' 11.50'}\n",
      "{'name': 'Dark Robusta Kaffee gemahlen', 'price': ' 11.50'}\n",
      "{'name': 'Malabar Kaffee gemahlen', 'price': ' 11.50'}\n",
      "{'name': 'Kaffeebohnen-Probierset', 'price': ' 35.00'}\n"
     ]
    }
   ],
   "source": [
    "\n",
    "\n",
    "soup = bs(driver.page_source, 'html.parser')\n",
    "with open('soup_adrianos.txt', 'w', encoding='utf-8') as file:\n",
    "    file.write(str(soup))\n",
    "\n",
    "content = soup.find_all(\"article\", class_=re.compile(\"product product_preview\"))\n",
    "\n",
    "products_adrianos = []\n",
    "\n",
    "for c in content: \n",
    "    try:\n",
    "        product = c.find(\"div\", class_=re.compile(\"product__caption product__caption_preview\"))\n",
    "\n",
    "        name = product.find(\"h2\").text.strip()\n",
    "\n",
    "        price = product.find(\"span\").text.strip()\n",
    "        \n",
    "        #remove text\n",
    "        price_transformed = price[-(len(price)-3):]\n",
    "\n",
    "        products_adrianos.append({'name':name, 'price': price_transformed})\n",
    "        \n",
    "        print(products_adrianos[len(products_adrianos)-1])\n",
    "    \n",
    "    except Exception as e:\n",
    "        #this row has no products, so ignore\n",
    "        continue"
   ]
  }
 ],
 "metadata": {
  "kernelspec": {
   "display_name": "Python 3",
   "language": "python",
   "name": "python3"
  },
  "language_info": {
   "codemirror_mode": {
    "name": "ipython",
    "version": 3
   },
   "file_extension": ".py",
   "mimetype": "text/x-python",
   "name": "python",
   "nbconvert_exporter": "python",
   "pygments_lexer": "ipython3",
   "version": "3.11.5"
  }
 },
 "nbformat": 4,
 "nbformat_minor": 2
}
